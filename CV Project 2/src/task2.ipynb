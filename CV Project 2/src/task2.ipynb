{
 "cells": [
  {
   "cell_type": "code",
   "execution_count": 1,
   "metadata": {},
   "outputs": [],
   "source": [
    "import numpy as np\n",
    "import cv2\n",
    "from shapely.geometry import Polygon\n",
    "import os\n",
    "import shutil"
   ]
  },
  {
   "cell_type": "code",
   "execution_count": 2,
   "metadata": {},
   "outputs": [],
   "source": [
    "#constants\n",
    "INPUT_WIDTH = 640\n",
    "INPUT_HEIGHT = 640\n",
    "MIN_CONFIDENCE = 0.4\n",
    "NON_MAXIMUM_SUPPRESION_THRESH = 0.45\n",
    "SCORE_THRESH = 0.25\n",
    "CLASSES = ['bicycle', 'car', 'motorbike', 'bus', 'truck']\n",
    "VIDEO_EXTENSION_AND_FOURCC_DICT = {\n",
    "    'avi': cv2.VideoWriter_fourcc('M', 'J', 'P', 'G'),\n",
    "    'mp4': 0x7634706d\n",
    "}"
   ]
  },
  {
   "cell_type": "code",
   "execution_count": 3,
   "metadata": {},
   "outputs": [],
   "source": [
    "net = cv2.dnn.readNet('assets/yolov5s.onnx')"
   ]
  },
  {
   "cell_type": "code",
   "execution_count": 4,
   "metadata": {},
   "outputs": [],
   "source": [
    "# image has to be converted to 640x640 for yolov5\n",
    "def format_yolov5(image):\n",
    "    row, col, _ = image.shape\n",
    "    _max = max(col, row)\n",
    "    result = np.zeros((_max, _max, 3), np.uint8)\n",
    "    result[0:row, 0:col] = image\n",
    "    \n",
    "    return result"
   ]
  },
  {
   "cell_type": "code",
   "execution_count": 5,
   "metadata": {},
   "outputs": [],
   "source": [
    "def get_preds(formatted_image, net):\n",
    "    blob = cv2.dnn.blobFromImage(formatted_image , 1/255.0, (INPUT_WIDTH, INPUT_HEIGHT), swapRB=True)\n",
    "    net.setInput(blob)\n",
    "\n",
    "    return net.forward()"
   ]
  },
  {
   "cell_type": "code",
   "execution_count": 6,
   "metadata": {},
   "outputs": [],
   "source": [
    "def classnames_to_ids(classnames):\n",
    "    return [id for id in range(len(classnames)) if classnames[id] in CLASSES]"
   ]
  },
  {
   "cell_type": "code",
   "execution_count": 7,
   "metadata": {},
   "outputs": [],
   "source": [
    "def get_classes(path=\"assets/classes.txt\"):\n",
    "    class_list = []\n",
    "    with open(path, \"r\") as f:\n",
    "        class_list = [cname.strip() for cname in f.readlines()]\n",
    "    return class_list"
   ]
  },
  {
   "cell_type": "code",
   "execution_count": 8,
   "metadata": {},
   "outputs": [],
   "source": [
    "def unwrap_detections(\n",
    "    predictions, \n",
    "    formatted_image, \n",
    "    classes_path=\"assets/classes.txt\"\n",
    "):\n",
    "    class_ids = []\n",
    "    confidences = []\n",
    "    boxes = []\n",
    "\n",
    "    output_data = predictions[0]\n",
    "    rows = output_data.shape[0]\n",
    "\n",
    "    image_width, image_height, _ = formatted_image.shape\n",
    "    x_factor = image_width / INPUT_WIDTH\n",
    "    y_factor = image_height / INPUT_HEIGHT\n",
    "\n",
    "    for r in range(rows):\n",
    "        row = output_data[r]\n",
    "        confidence = row[4]\n",
    "        if confidence >= MIN_CONFIDENCE:\n",
    "\n",
    "            classes_scores = row[5:]\n",
    "            _, _, _, max_indx = cv2.minMaxLoc(classes_scores)\n",
    "            class_id = max_indx[1]\n",
    "            if (classes_scores[class_id] > SCORE_THRESH):\n",
    "\n",
    "                confidences.append(confidence)\n",
    "\n",
    "                class_ids.append(class_id)\n",
    "\n",
    "                x, y, w, h = row[0].item(), row[1].item(), row[2].item(), row[3].item() \n",
    "                left = int((x - 0.5 * w) * x_factor)\n",
    "                top = int((y - 0.5 * h) * y_factor)\n",
    "                width = int(w * x_factor)\n",
    "                height = int(h * y_factor)\n",
    "                box = np.array([left, top, width, height])\n",
    "                boxes.append(box)\n",
    "\n",
    "    class_list = get_classes(classes_path)\n",
    "\n",
    "    desired_classes_ids = classnames_to_ids(class_list) \n",
    "\n",
    "    indexes = cv2.dnn.NMSBoxes(boxes, confidences, SCORE_THRESH, NON_MAXIMUM_SUPPRESION_THRESH) \n",
    "\n",
    "    result_boxes = []\n",
    "\n",
    "    for i in indexes:\n",
    "        if class_ids[i] in desired_classes_ids:\n",
    "            result_boxes.append(boxes[i])\n",
    "    \n",
    "    return result_boxes"
   ]
  },
  {
   "cell_type": "code",
   "execution_count": 9,
   "metadata": {},
   "outputs": [],
   "source": [
    "def read_frames(video_path):\n",
    "    \"\"\"\n",
    "    This function takes the video path and returns the a list of frames.\n",
    "    :param video_path: Path to the video\n",
    "    \"\"\"\n",
    "    frames = []\n",
    "    cap = cv2.VideoCapture(video_path)\n",
    "    if cap.isOpened() == False: \n",
    "        raise Exception(\"Error opening video stream or file\") \n",
    "    \n",
    "    while cap.isOpened():  \n",
    "        ret, frame = cap.read() # Read the frame\n",
    "        if ret is True:\n",
    "            frames.append(frame)\n",
    "        else:\n",
    "            break\n",
    "    cap.release()\n",
    "    return frames"
   ]
  },
  {
   "cell_type": "code",
   "execution_count": 10,
   "metadata": {},
   "outputs": [],
   "source": [
    "def get_IOU(poly1, poly2):\n",
    "    if poly1.intersects(poly2): \n",
    "        intersect = poly1.intersection(poly2).area\n",
    "        union = poly1.union(poly2).area\n",
    "        return intersect / union\n",
    "    return 0"
   ]
  },
  {
   "cell_type": "code",
   "execution_count": 11,
   "metadata": {},
   "outputs": [],
   "source": [
    "def parse_query(query_path):\n",
    "    with open(query_path, 'r') as query:\n",
    "        queried_bb = query.read().splitlines()\n",
    "\n",
    "    return queried_bb"
   ]
  },
  {
   "cell_type": "code",
   "execution_count": 14,
   "metadata": {},
   "outputs": [],
   "source": [
    "def generate_predictions(query_filename, video_path, net, out_path, pad=50, save_video=False):\n",
    "    query = parse_query(query_filename)\n",
    "    out_paths = out_path.split('/')\n",
    "    out_paths = [path for path in out_paths if path != '']\n",
    "\n",
    "    for i in range(len(out_paths)):\n",
    "        if not os.path.exists('/'.join(out_paths[:i+1])):\n",
    "            os.mkdir('/'.join(out_paths[:i+1]))\n",
    "\n",
    "    frames = read_frames(video_path)\n",
    "    start_frame = int(query[1].split(' ')[0])\n",
    "    end_frame = int(query[0].split(' ')[0])\n",
    "    starting_bb = [int(number) for number in query[1].split(' ')[1:]]\n",
    "\n",
    "    tracked_bbs = [starting_bb]\n",
    "\n",
    "    if save_video:\n",
    "        video_output_name = video_path.split('/')[-1]\n",
    "        output_video = cv2.VideoWriter(\n",
    "            video_output_name, VIDEO_EXTENSION_AND_FOURCC_DICT[\"mp4\"],\n",
    "            60,\n",
    "            (frames[0].shape[1], frames[0].shape[0])\n",
    "        )\n",
    "\n",
    "    shutil.copy(query_filename, out_path + query_filename.split('/')[-1])\n",
    "    with open(out_path + query_filename.split('/')[-1], \"a+\") as f:\n",
    "        f.write('\\n')\n",
    "        for i in range(start_frame, len(frames)):\n",
    "            if i == end_frame:\n",
    "                break\n",
    "\n",
    "            tracked_bb = tracked_bbs[i-start_frame]\n",
    "            tracked_bb_xmin, tracked_bb_ymin, tracked_bb_xmax, tracked_bb_ymax = tracked_bb \n",
    "            tracked_bb_img = frames[i][tracked_bb_ymin - pad:tracked_bb_ymax + pad, tracked_bb_xmin - pad:tracked_bb_xmax + pad]\n",
    "\n",
    "            formatted_frame = format_yolov5(tracked_bb_img)\n",
    "\n",
    "            preds = get_preds(formatted_frame, net)\n",
    "\n",
    "            boxes = unwrap_detections(preds, formatted_frame)\n",
    "\n",
    "            tracked_bb_poly = Polygon(\n",
    "                [(tracked_bb[0], tracked_bb[1]), #xmin, ymin\n",
    "                (tracked_bb[0], tracked_bb[3]), #xmin, ymax\n",
    "                (tracked_bb[2], tracked_bb[3]), #xmax, ymax\n",
    "                (tracked_bb[2], tracked_bb[1])] #xmax, ymin\n",
    "            )\n",
    "\n",
    "            if len(boxes) == 0:\n",
    "                if i == 0:\n",
    "                    cv2.rectangle(frames[i], tracked_bbs[i], (255, 0, 255), 2)\n",
    "                    tracked_bbs.append(tracked_bbs[i])\n",
    "                else: \n",
    "                    cv2.rectangle(frames[i], tracked_bbs[i-1], (255, 0, 255), 2)\n",
    "                    tracked_bbs.append(tracked_bbs[i-1])\n",
    "            else:\n",
    "                IOU_to_box = {}\n",
    "                for box in boxes:\n",
    "                    box[0] = box[0] + tracked_bb_xmin - pad\n",
    "                    box[1] = box[1] + tracked_bb_ymin - pad \n",
    "                    x, y, w ,h = box\n",
    "                    bb_poly = Polygon([(x, y), (x+w, y), (x+w, y+h), (x, y+h)])\n",
    "                    IOU = get_IOU(bb_poly, tracked_bb_poly)\n",
    "                    IOU_to_box[IOU] = box\n",
    "\n",
    "            max_iou = max(IOU_to_box.keys())\n",
    "            current_box = IOU_to_box[max_iou]\n",
    "            if save_video:\n",
    "                cv2.rectangle(frames[i], current_box, (255, 0, 255), 2)\n",
    "            tracked_bbs.append([current_box[0], current_box[1], current_box[0] + current_box[2], current_box[1] + current_box[3]])\n",
    "\n",
    "            if i != 0:\n",
    "                f.write(f'{i} {tracked_bbs[i][0]} {tracked_bbs[i][1]} {tracked_bbs[i][2]} {tracked_bbs[i][3]}')\n",
    "                if i != len(frames) - 1:\n",
    "                    f.write('\\n')\n",
    "\n",
    "        if save_video:\n",
    "            for i in range(end_frame):\n",
    "                output_video.write(frames[i])\n",
    "\n",
    "            output_video.release()"
   ]
  },
  {
   "cell_type": "code",
   "execution_count": 17,
   "metadata": {},
   "outputs": [],
   "source": [
    "def get_all_predictions(videos_path, out_path, net):\n",
    "    video_filenames = [videos_path + f for f in os.listdir(videos_path) if f.endswith('.mp4')]\n",
    "    query_filenames = [videos_path + f for f in os.listdir(videos_path) if f.endswith('.txt')]\n",
    "\n",
    "    for video_filename, query_filename in zip(video_filenames, query_filenames):\n",
    "        generate_predictions(query_filename, video_filename, net, out_path, pad=50, save_video=False)"
   ]
  },
  {
   "cell_type": "code",
   "execution_count": 18,
   "metadata": {},
   "outputs": [],
   "source": [
    "net = cv2.dnn.readNet('assets/yolov5s.onnx')\n",
    "get_all_predictions('../train/Task2/', '../submission/Task2/', net)"
   ]
  }
 ],
 "metadata": {
  "kernelspec": {
   "display_name": "Python 3",
   "language": "python",
   "name": "python3"
  },
  "language_info": {
   "codemirror_mode": {
    "name": "ipython",
    "version": 3
   },
   "file_extension": ".py",
   "mimetype": "text/x-python",
   "name": "python",
   "nbconvert_exporter": "python",
   "pygments_lexer": "ipython3",
   "version": "3.9.2"
  },
  "orig_nbformat": 4
 },
 "nbformat": 4,
 "nbformat_minor": 2
}
